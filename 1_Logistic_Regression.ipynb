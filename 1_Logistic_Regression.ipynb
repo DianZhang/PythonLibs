{
 "cells": [
  {
   "cell_type": "markdown",
   "metadata": {},
   "source": [
    "# Logestic Regression\n",
    "\n",
    "Same as linear regression, $y = wx+b$, where x is a multi-dimension input. Logistic Regression apply a logistic function (commenly Sigmoid function) to y to conver the linear output to probability. \n",
    "\n",
    "### Sigmoid Function \n",
    "\n",
    "$$f(x) = \\frac{1}{1 + e^{-x}}$$\n",
    "\n",
    "### Loss Function \n",
    "Cross Entropy\n",
    "$$ loss = -(y * log(\\hat{y}) + (1 - y) * log(1 - \\hat{y}) $$"
   ]
  },
  {
   "cell_type": "code",
   "execution_count": null,
   "metadata": {},
   "outputs": [],
   "source": []
  }
 ],
 "metadata": {
  "kernelspec": {
   "display_name": "Python 3",
   "language": "python",
   "name": "python3"
  },
  "language_info": {
   "codemirror_mode": {
    "name": "ipython",
    "version": 3
   },
   "file_extension": ".py",
   "mimetype": "text/x-python",
   "name": "python",
   "nbconvert_exporter": "python",
   "pygments_lexer": "ipython3",
   "version": "3.5.2"
  }
 },
 "nbformat": 4,
 "nbformat_minor": 2
}
